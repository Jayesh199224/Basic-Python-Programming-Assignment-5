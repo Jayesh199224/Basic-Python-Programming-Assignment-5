{
 "cells": [
  {
   "cell_type": "code",
   "execution_count": 2,
   "metadata": {},
   "outputs": [
    {
     "name": "stdout",
     "output_type": "stream",
     "text": [
      "enter ur first number 12\n",
      "enter ur second number 20\n",
      "the lcm of  12 and  20 is  60\n"
     ]
    }
   ],
   "source": [
    "# 1.Write a Python Program to Find LCM?\n",
    "n1 = int(input(\"enter ur first number \"))\n",
    "n2 = int(input(\"enter ur second number \"))\n",
    "\n",
    "def lcm (x,y) :\n",
    "    if x > y :\n",
    "        greater  = x\n",
    "    else :\n",
    "        greater = y\n",
    "    while (True):\n",
    "        if ((greater % x == 0)and(greater % y == 0)):\n",
    "            lcm = greater\n",
    "            break\n",
    "        greater = greater + 1\n",
    "    return lcm\n",
    "print(\"the lcm of \", n1, \"and \",n2, \"is \", lcm(n1,n2))\n",
    "\n"
   ]
  },
  {
   "cell_type": "code",
   "execution_count": 6,
   "metadata": {},
   "outputs": [
    {
     "name": "stdout",
     "output_type": "stream",
     "text": [
      "enter ur first number 24\n",
      "enter ur second number 54\n",
      "the hcf of  24 and  54 is  6\n"
     ]
    }
   ],
   "source": [
    "#2.Write a Python Program to Find HCF?\n",
    "n1 = int(input(\"enter ur first number \"))\n",
    "n2 = int(input(\"enter ur second number \"))\n",
    "\n",
    "def hcf (x,y) :\n",
    "    if x > y :\n",
    "        smaller  = x\n",
    "    else :\n",
    "        smaller = y\n",
    "    for i in range (1,smaller +1):\n",
    "        if ((x % i == 0)and(y % i == 0)):\n",
    "            hcf = i\n",
    "    return hcf\n",
    "print(\"the hcf of \", n1, \"and \",n2, \"is \", hcf(n1,n2))"
   ]
  },
  {
   "cell_type": "code",
   "execution_count": 9,
   "metadata": {},
   "outputs": [
    {
     "name": "stdout",
     "output_type": "stream",
     "text": [
      "Enter a decimal number: 50\n",
      "0b110010 in binary.\n",
      "0o62 in octal.\n",
      "0x32 in hexadecimal.\n"
     ]
    }
   ],
   "source": [
    "#3.Write a Python Program to Convert Decimal to Binary, Octal and Hexadecimal?\n",
    "dec = int(input(\"Enter a decimal number: \"))  \n",
    "  \n",
    "print(bin(dec),\"in binary.\")  \n",
    "print(oct(dec),\"in octal.\")  \n",
    "print(hex(dec),\"in hexadecimal.\" )"
   ]
  },
  {
   "cell_type": "code",
   "execution_count": 4,
   "metadata": {},
   "outputs": [
    {
     "name": "stdout",
     "output_type": "stream",
     "text": [
      "Enter the character : K\n",
      "The ASCII of character K is 75\n"
     ]
    }
   ],
   "source": [
    "#4.Write a Python Program To Find ASCII value of a character?\n",
    "a = input(\"Enter the character : \")\n",
    "\n",
    "print(\"The ASCII of character \"+a+\" is\",ord(a))"
   ]
  },
  {
   "cell_type": "code",
   "execution_count": 9,
   "metadata": {},
   "outputs": [
    {
     "name": "stdout",
     "output_type": "stream",
     "text": [
      "enter the operation  : mul\n",
      "enter the 1st no. 6\n",
      "enter the 2nd no. 9\n",
      "mul of  6 and 9  is 54\n"
     ]
    }
   ],
   "source": [
    "#5.Write a Python Program to Make a Simple Calculator with 4 basic mathematical operations?\n",
    "def add (a,b):\n",
    "    return a+b\n",
    "def sub (a,b):\n",
    "    return a-b\n",
    "def mul (a,b):\n",
    "    return a*b\n",
    "def div (a,b):\n",
    "    return a/b\n",
    "  \n",
    "operation = input('enter the operation  : ')\n",
    "\n",
    "num1 = int(input('enter the 1st no. '))\n",
    "num2 = int(input('enter the 2nd no. '))\n",
    "\n",
    "if operation == 'add':\n",
    "    print('sum of ',num1, 'and' ,num2,' is',add(num1,num2))\n",
    "elif operation == 'sub':\n",
    "    print('diff of ',num1, 'and' ,num2,' is',sub(num1,num2))\n",
    "elif operation == 'mul':\n",
    "    print('mul of ',num1, 'and' ,num2,' is',mul(num1,num2))    \n",
    "elif operation == 'div':\n",
    "    print('div of ',num1, 'and' ,num2,' is',div(num1,num2))\n",
    "    \n",
    "else:\n",
    "    print('invalid number entered')\n",
    "    \n",
    "    "
   ]
  },
  {
   "cell_type": "code",
   "execution_count": null,
   "metadata": {},
   "outputs": [],
   "source": []
  }
 ],
 "metadata": {
  "kernelspec": {
   "display_name": "Python 3",
   "language": "python",
   "name": "python3"
  },
  "language_info": {
   "codemirror_mode": {
    "name": "ipython",
    "version": 3
   },
   "file_extension": ".py",
   "mimetype": "text/x-python",
   "name": "python",
   "nbconvert_exporter": "python",
   "pygments_lexer": "ipython3",
   "version": "3.8.5"
  }
 },
 "nbformat": 4,
 "nbformat_minor": 4
}
